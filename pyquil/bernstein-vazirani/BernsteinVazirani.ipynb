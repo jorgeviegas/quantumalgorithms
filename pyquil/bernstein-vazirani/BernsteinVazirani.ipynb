{
 "cells": [
  {
   "cell_type": "code",
   "execution_count": 28,
   "id": "a6d3f254-5db1-4bee-b8d2-845fe98fd237",
   "metadata": {},
   "outputs": [],
   "source": [
    "from grove.bernstein_vazirani.bernstein_vazirani import BernsteinVazirani, create_bv_bitmap\n",
    "\n",
    "from itertools import product\n",
    "import pyquil.api as api\n",
    "import time\n",
    "\n",
    "qvm = api.QVMConnection()\n",
    "\n",
    "bernsteinVazirani = BernsteinVazirani()"
   ]
  },
  {
   "cell_type": "code",
   "execution_count": 29,
   "id": "deb6678f-9da3-4cae-b83d-7df60cb07593",
   "metadata": {},
   "outputs": [],
   "source": [
    "def generateBitMap(numberOfQubits) : \n",
    "    endianRep = \"{0:b}\".format(numberOfQubits)\n",
    "    bitMapLength = len(endianRep)\n",
    "    zeroPadding = '0' * (numberOfQubits - bitMapLength)\n",
    "    endianRep = endianRep + zeroPadding\n",
    "    print(\"Bitmap: \" + endianRep)\n",
    "    return endianRep"
   ]
  },
  {
   "cell_type": "code",
   "execution_count": 30,
   "id": "90cc7396-8a4f-4583-a85b-fb9bc2d4c8d1",
   "metadata": {},
   "outputs": [],
   "source": [
    "def runBernsteinVazirani(numberOfQubits) :\n",
    "    bitMap = generateBitMap(numberOfQubits)\n",
    "    bitMapFunction = create_bv_bitmap(bitMap, '1')\n",
    "    print(bitMapFunction)\n",
    "    timeBefore = time.perf_counter()\n",
    "    bernsteinVazirani.run(qvm, bitMapFunction).get_solution()\n",
    "    timeAfter = time.perf_counter()\n",
    "    totalElapsedTime = timeAfter - timeBefore   \n",
    "    formattedTotalElapsedTime = \"{:.4f}\".format(totalElapsedTime)    \n",
    "    print(\"[\" + str(numberOfQubits) + \"] Time: \" + str(formattedTotalElapsedTime))\n"
   ]
  },
  {
   "cell_type": "code",
   "execution_count": null,
   "id": "512776f3-42d7-4385-8878-81aa477fa7c7",
   "metadata": {},
   "outputs": [],
   "source": [
    "#for x in range(3, 18): runDeutschJozsa(x)\n",
    "runBernsteinVazirani(12)"
   ]
  },
  {
   "cell_type": "code",
   "execution_count": null,
   "id": "02d2593e-095a-4117-8916-4696f61c24f4",
   "metadata": {},
   "outputs": [],
   "source": []
  },
  {
   "cell_type": "code",
   "execution_count": null,
   "id": "da46ddaf-d82a-4e07-ab20-9728cd49a6d4",
   "metadata": {},
   "outputs": [],
   "source": []
  }
 ],
 "metadata": {
  "kernelspec": {
   "display_name": "Python 3",
   "language": "python",
   "name": "python3"
  },
  "language_info": {
   "codemirror_mode": {
    "name": "ipython",
    "version": 3
   },
   "file_extension": ".py",
   "mimetype": "text/x-python",
   "name": "python",
   "nbconvert_exporter": "python",
   "pygments_lexer": "ipython3",
   "version": "3.9.4"
  }
 },
 "nbformat": 4,
 "nbformat_minor": 5
}
