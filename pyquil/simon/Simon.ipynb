{
 "cells": [
  {
   "cell_type": "code",
   "execution_count": 1,
   "id": "a6d3f254-5db1-4bee-b8d2-845fe98fd237",
   "metadata": {},
   "outputs": [],
   "source": [
    "import pyquil.api as api\n",
    "import numpy as np\n",
    "import time\n",
    "\n",
    "from collections import defaultdict\n",
    "from mock import patch\n",
    "from grove.simon.simon import Simon, create_valid_2to1_bitmap\n",
    "\n",
    "qvm = api.QVMConnection()\n",
    "simonAlgorithm = Simon()\n"
   ]
  },
  {
   "cell_type": "code",
   "execution_count": null,
   "id": "90cc7396-8a4f-4583-a85b-fb9bc2d4c8d1",
   "metadata": {},
   "outputs": [],
   "source": []
  },
  {
   "cell_type": "code",
   "execution_count": 2,
   "id": "f261e8c4-aaa4-4dae-972b-67916efcb0e7",
   "metadata": {},
   "outputs": [],
   "source": [
    "def endianNotation(numberOfQubits) :    \n",
    "    endianRep = \"{0:b}\".format(numberOfQubits)[::-1]\n",
    "    bitMapLength = len(endianRep)\n",
    "    zeroPadding = '0' * (numberOfQubits - bitMapLength)\n",
    "    endianRep = endianRep + zeroPadding\n",
    "    return endianRep"
   ]
  },
  {
   "cell_type": "code",
   "execution_count": null,
   "id": "9a7dfdb3-6e27-4044-9d01-0a7016b38eb8",
   "metadata": {},
   "outputs": [],
   "source": []
  },
  {
   "cell_type": "code",
   "execution_count": 3,
   "id": "fece9be2-7f18-461f-812a-f617d9ad3fa6",
   "metadata": {},
   "outputs": [],
   "source": [
    "def generateBitmap(numberOfQubits) :\n",
    "    mask = endianNotation(numberOfQubits)\n",
    "    print(\"Mask: \" + mask)\n",
    "    bitMap = create_valid_2to1_bitmap(mask)\n",
    "    return bitMap"
   ]
  },
  {
   "cell_type": "code",
   "execution_count": null,
   "id": "1fb04363-ab2c-4505-ab1b-066f07c51752",
   "metadata": {},
   "outputs": [],
   "source": [
    "def runSimonAlgorithm(numberOfQubits) :\n",
    "    bitMap = generateBitmap(numberOfQubits)\n",
    "    timeBefore = time.perf_counter()\n",
    "    print(simonAlgorithm.find_mask(qvm, bitMap))\n",
    "    timeAfter = time.perf_counter()\n",
    "    totalElapsedTime = timeAfter - timeBefore   \n",
    "    formattedTotalElapsedTime = \"{:.4f}\".format(totalElapsedTime)    \n",
    "    print(\"[\" + str(numberOfQubits) + \"] Time: \" + str(formattedTotalElapsedTime))"
   ]
  },
  {
   "cell_type": "code",
   "execution_count": null,
   "id": "de7b24d9-7c79-41d9-bf84-2439cf730b34",
   "metadata": {},
   "outputs": [
    {
     "name": "stdout",
     "output_type": "stream",
     "text": [
      "Mask: 10100\n",
      "{'00000': '00111', '10100': '00111', '00001': '11101', '10101': '11101', '00010': '11110', '10110': '11110', '00011': '00011', '10111': '00011', '00100': '10000', '10000': '10000', '00101': '00001', '10001': '00001', '00110': '10100', '10010': '10100', '00111': '01010', '10011': '01010', '01000': '11000', '11100': '11000', '01001': '00101', '11101': '00101', '01010': '11111', '11110': '11111', '01011': '10110', '11111': '10110', '01100': '10010', '11000': '10010', '01101': '01110', '11001': '01110', '01110': '00110', '11010': '00110', '01111': '10001', '11011': '10001'}\n"
     ]
    }
   ],
   "source": [
    "runSimonAlgorithm(5)"
   ]
  },
  {
   "cell_type": "code",
   "execution_count": null,
   "id": "f19a1430-4496-46b5-82e9-ddc9d5232f6e",
   "metadata": {},
   "outputs": [],
   "source": []
  }
 ],
 "metadata": {
  "kernelspec": {
   "display_name": "Python 3",
   "language": "python",
   "name": "python3"
  },
  "language_info": {
   "codemirror_mode": {
    "name": "ipython",
    "version": 3
   },
   "file_extension": ".py",
   "mimetype": "text/x-python",
   "name": "python",
   "nbconvert_exporter": "python",
   "pygments_lexer": "ipython3",
   "version": "3.9.4"
  }
 },
 "nbformat": 4,
 "nbformat_minor": 5
}
