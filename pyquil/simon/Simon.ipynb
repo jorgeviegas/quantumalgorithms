{
 "cells": [
  {
   "cell_type": "code",
   "execution_count": 11,
   "id": "a6d3f254-5db1-4bee-b8d2-845fe98fd237",
   "metadata": {},
   "outputs": [],
   "source": [
    "import pyquil.api as api\n",
    "import numpy as np\n",
    "import time\n",
    "\n",
    "from collections import defaultdict\n",
    "from mock import patch\n",
    "from grove.simon.simon import Simon, create_valid_2to1_bitmap\n",
    "\n",
    "qvm = api.QVMConnection()\n",
    "simonAlgorithm = Simon()\n"
   ]
  },
  {
   "cell_type": "code",
   "execution_count": 34,
   "id": "90cc7396-8a4f-4583-a85b-fb9bc2d4c8d1",
   "metadata": {},
   "outputs": [],
   "source": [
    "mask = '10100'\n",
    "bitMap = create_valid_2to1_bitmap(mask)"
   ]
  },
  {
   "cell_type": "code",
   "execution_count": null,
   "id": "f261e8c4-aaa4-4dae-972b-67916efcb0e7",
   "metadata": {},
   "outputs": [],
   "source": []
  },
  {
   "cell_type": "code",
   "execution_count": 35,
   "id": "9a7dfdb3-6e27-4044-9d01-0a7016b38eb8",
   "metadata": {},
   "outputs": [
    {
     "name": "stdout",
     "output_type": "stream",
     "text": [
      "[1, 0, 1, 0, 0]\n",
      "[5] Time: 134.2005\n"
     ]
    }
   ],
   "source": [
    "timeBefore = time.perf_counter()\n",
    "print(simonAlgorithm.find_mask(qvm, bitMap))\n",
    "timeAfter = time.perf_counter()\n",
    "totalElapsedTime = timeAfter - timeBefore   \n",
    "formattedTotalElapsedTime = \"{:.4f}\".format(totalElapsedTime)    \n",
    "print(\"[\" + str(len(mask)) + \"] Time: \" + str(formattedTotalElapsedTime))"
   ]
  },
  {
   "cell_type": "code",
   "execution_count": null,
   "id": "fece9be2-7f18-461f-812a-f617d9ad3fa6",
   "metadata": {},
   "outputs": [],
   "source": []
  }
 ],
 "metadata": {
  "kernelspec": {
   "display_name": "Python 3",
   "language": "python",
   "name": "python3"
  },
  "language_info": {
   "codemirror_mode": {
    "name": "ipython",
    "version": 3
   },
   "file_extension": ".py",
   "mimetype": "text/x-python",
   "name": "python",
   "nbconvert_exporter": "python",
   "pygments_lexer": "ipython3",
   "version": "3.9.4"
  }
 },
 "nbformat": 4,
 "nbformat_minor": 5
}
