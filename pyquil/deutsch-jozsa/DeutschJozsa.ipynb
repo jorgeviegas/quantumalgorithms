{
 "cells": [
  {
   "cell_type": "code",
   "execution_count": 5,
   "id": "a6d3f254-5db1-4bee-b8d2-845fe98fd237",
   "metadata": {},
   "outputs": [],
   "source": [
    "from grove.deutsch_jozsa.deutsch_jozsa import DeutschJosza\n",
    "from itertools import product\n",
    "import pyquil.api as api\n",
    "import time\n",
    "\n",
    "qvm = api.QVMConnection()\n",
    "deutschJoszaAlgorithm = DeutschJosza()\n",
    "\n",
    "bit_value = '0'\n",
    "bit = (\"0\", \"1\")\n",
    "constant_bitmap = {}"
   ]
  },
  {
   "cell_type": "code",
   "execution_count": 6,
   "id": "deb6678f-9da3-4cae-b83d-7df60cb07593",
   "metadata": {},
   "outputs": [],
   "source": [
    "def generateBitMap(numberOfQubits):\n",
    "    for bitstring in product(bit, repeat=numberOfQubits):\n",
    "        bitstring = \"\".join(bitstring)\n",
    "        constant_bitmap[bitstring] = bit_value"
   ]
  },
  {
   "cell_type": "code",
   "execution_count": 7,
   "id": "90cc7396-8a4f-4583-a85b-fb9bc2d4c8d1",
   "metadata": {},
   "outputs": [],
   "source": [
    "def runDeutschJozsa(numberOfQubits):\n",
    "    generateBitMap(numberOfQubits)\n",
    "    timeBefore = time.perf_counter()\n",
    "    is_constant = deutschJoszaAlgorithm.is_constant(qvm, constant_bitmap)\n",
    "    timeAfter = time.perf_counter()\n",
    "    totalElapsedTime = timeAfter - timeBefore   \n",
    "    formattedTotalElapsedTime = \"{:.4f}\".format(totalElapsedTime)    \n",
    "    print(\"[\" + str(numberOfQubits) + \"] Time: \" + str(formattedTotalElapsedTime))\n"
   ]
  },
  {
   "cell_type": "code",
   "execution_count": 8,
   "id": "512776f3-42d7-4385-8878-81aa477fa7c7",
   "metadata": {},
   "outputs": [
    {
     "name": "stdout",
     "output_type": "stream",
     "text": [
      "[5] Time: 0.3352\n"
     ]
    }
   ],
   "source": [
    "runDeutschJozsa(5)"
   ]
  },
  {
   "cell_type": "code",
   "execution_count": null,
   "id": "f261e8c4-aaa4-4dae-972b-67916efcb0e7",
   "metadata": {},
   "outputs": [],
   "source": []
  },
  {
   "cell_type": "code",
   "execution_count": null,
   "id": "2f1987cd-bd67-42ef-a59a-5beaa8ddc064",
   "metadata": {},
   "outputs": [],
   "source": []
  }
 ],
 "metadata": {
  "kernelspec": {
   "display_name": "Python 3",
   "language": "python",
   "name": "python3"
  },
  "language_info": {
   "codemirror_mode": {
    "name": "ipython",
    "version": 3
   },
   "file_extension": ".py",
   "mimetype": "text/x-python",
   "name": "python",
   "nbconvert_exporter": "python",
   "pygments_lexer": "ipython3",
   "version": "3.9.4"
  }
 },
 "nbformat": 4,
 "nbformat_minor": 5
}
