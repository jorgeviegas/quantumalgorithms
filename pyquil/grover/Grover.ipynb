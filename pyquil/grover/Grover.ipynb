{
 "cells": [
  {
   "cell_type": "code",
   "execution_count": 1,
   "id": "5fd8abe7-3708-4ab3-b92d-c849f690b13a",
   "metadata": {},
   "outputs": [],
   "source": [
    "from itertools import product\n",
    "from mock import patch\n",
    "from grove.amplification.grover import Grover\n",
    "import pyquil.api as api\n",
    "import time\n",
    "\n",
    "qvm = api.QVMConnection()"
   ]
  },
  {
   "cell_type": "code",
   "execution_count": 3,
   "id": "12efdcb5-c2ce-4500-8a7a-205cae439347",
   "metadata": {},
   "outputs": [
    {
     "name": "stdout",
     "output_type": "stream",
     "text": [
      "{'000': 1, '001': 1, '010': 1, '011': 1, '100': 1, '101': 1, '110': 1, '111': -1}\n"
     ]
    }
   ],
   "source": [
    "target_bitstring = '111'\n",
    "bit = (\"0\", \"1\")\n",
    "bitstring_map = {}\n",
    "target_bitstring_phase = -1\n",
    "nontarget_bitstring_phase = 1\n",
    "\n",
    "# We construct the bitmap for the oracle\n",
    "for bitstring in product(bit, repeat=len(target_bitstring)):\n",
    "    bitstring = \"\".join(bitstring)\n",
    "    if bitstring == target_bitstring:\n",
    "        bitstring_map[bitstring] = target_bitstring_phase\n",
    "    else:\n",
    "        bitstring_map[bitstring] = nontarget_bitstring_phase\n",
    "        \n",
    "        \n",
    "        \n",
    "print(bitstring_map)"
   ]
  },
  {
   "cell_type": "code",
   "execution_count": 9,
   "id": "e5b3c0ba-0c8f-433f-ab33-18d4fead4f62",
   "metadata": {},
   "outputs": [
    {
     "name": "stdout",
     "output_type": "stream",
     "text": [
      "50.9541\n"
     ]
    }
   ],
   "source": [
    "grover = Grover()\n",
    "timeBefore = time.perf_counter()\n",
    "found_bitstring = grover.find_bitstring(qvm, bitstring_map)\n",
    "timeAfter = time.perf_counter()\n",
    "totalElapsedTime = timeAfter - timeBefore   \n",
    "formattedTotalElapsedTime = \"{:.4f}\".format(totalElapsedTime)        \n",
    "\n",
    "print(formattedTotalElapsedTime)"
   ]
  },
  {
   "cell_type": "code",
   "execution_count": null,
   "id": "c5bb44c8-95ae-482f-afa3-db228129127c",
   "metadata": {},
   "outputs": [],
   "source": []
  }
 ],
 "metadata": {
  "kernelspec": {
   "display_name": "Python 3",
   "language": "python",
   "name": "python3"
  },
  "language_info": {
   "codemirror_mode": {
    "name": "ipython",
    "version": 3
   },
   "file_extension": ".py",
   "mimetype": "text/x-python",
   "name": "python",
   "nbconvert_exporter": "python",
   "pygments_lexer": "ipython3",
   "version": "3.9.4"
  }
 },
 "nbformat": 4,
 "nbformat_minor": 5
}
