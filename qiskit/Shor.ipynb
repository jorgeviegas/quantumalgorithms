{
 "cells": [
  {
   "cell_type": "code",
   "execution_count": 1,
   "id": "f0807091-ba2a-4025-813e-2049dba567d4",
   "metadata": {
    "tags": []
   },
   "outputs": [],
   "source": [
    "from qiskit import QuantumCircuit, QuantumRegister, ClassicalRegister\n",
    "from qiskit import IBMQ, Aer\n",
    "from qiskit.aqua.algorithms import BernsteinVazirani, DeutschJozsa, Simon, Shor\n",
    "from qiskit.aqua.components.oracles import TruthTableOracle\n",
    "import time"
   ]
  },
  {
   "cell_type": "markdown",
   "id": "e939849e-5ace-4ab1-9953-83ef6493ce47",
   "metadata": {},
   "source": [
    "<h> Parameters </h>"
   ]
  },
  {
   "cell_type": "code",
   "execution_count": 2,
   "id": "f57a776d-42d1-4b76-a72e-26805b2e70d3",
   "metadata": {},
   "outputs": [],
   "source": [
    "numberOfQubits = 3\n",
    "numberOfClassicalBits = 2**numberOfQubits\n",
    "halfOfClassicalBits = int(numberOfClassicalBits / 2)"
   ]
  },
  {
   "cell_type": "code",
   "execution_count": 3,
   "id": "a7bc26bd-c98a-4b22-80e0-04d3fff1f926",
   "metadata": {},
   "outputs": [],
   "source": [
    "backend_object = Aer.get_backend('qasm_simulator')"
   ]
  },
  {
   "cell_type": "code",
   "execution_count": 4,
   "id": "2fcaf24d-bffd-4458-af86-e47d8302e445",
   "metadata": {},
   "outputs": [],
   "source": [
    "allZeroTruthTable = '0' * numberOfClassicalBits\n",
    "allOneTruthTable = '1' * numberOfClassicalBits\n",
    "balancedTruthTable = ('0' * (halfOfClassicalBits)) + ('1' * (halfOfClassicalBits))"
   ]
  },
  {
   "cell_type": "code",
   "execution_count": 5,
   "id": "e6c74ebf-3fc3-4703-b8e4-be082f3f5bfc",
   "metadata": {},
   "outputs": [],
   "source": [
    "allZeroOracle = TruthTableOracle(allZeroTruthTable)\n",
    "allOneOracle = TruthTableOracle(allOneTruthTable)\n",
    "balancedOracle = TruthTableOracle(balancedTruthTable)"
   ]
  },
  {
   "cell_type": "code",
   "execution_count": 6,
   "id": "8d4bcd5c-2ee8-4479-80a6-ddbbe516198c",
   "metadata": {},
   "outputs": [
    {
     "name": "stderr",
     "output_type": "stream",
     "text": [
      "/Users/i848340/opt/anaconda3/envs/QUANTUM/lib/python3.9/site-packages/qiskit/aqua/quantum_instance.py:135: DeprecationWarning: The class qiskit.aqua.QuantumInstance is deprecated. It was moved/refactored to qiskit.utils.QuantumInstance (pip install qiskit-terra). For more information see <https://github.com/Qiskit/qiskit-aqua/blob/master/README.md#migration-guide>\n",
      "  warn_class('aqua.QuantumInstance',\n",
      "/Users/i848340/opt/anaconda3/envs/QUANTUM/lib/python3.9/site-packages/qiskit/aqua/algorithms/education/deutsch_jozsa.py:100: DeprecationWarning: The QuantumCircuit.__add__() method is being deprecated.Use the compose() method which is more flexible w.r.t circuit register compatibility.\n",
      "  self._circuit = qc_preoracle + qc_oracle + qc_postoracle\n",
      "/Users/i848340/opt/anaconda3/envs/QUANTUM/lib/python3.9/site-packages/qiskit/circuit/quantumcircuit.py:869: DeprecationWarning: The QuantumCircuit.combine() method is being deprecated. Use the compose() method which is more flexible w.r.t circuit register compatibility.\n",
      "  return self.combine(rhs)\n"
     ]
    },
    {
     "name": "stdout",
     "output_type": "stream",
     "text": [
      "{'measurement': {'100': 1024}, 'result': 'balanced'}\n",
      "0.2620\n"
     ]
    }
   ],
   "source": [
    "deutschJozsaCircuit = DeutschJozsa(balancedOracle)\n",
    "timeBefore = time.perf_counter()\n",
    "result = deutschJozsaCircuit.run(backend_object)\n",
    "timeAfter = time.perf_counter()\n",
    "totalElapsedTime = timeAfter - timeBefore\n",
    "formattedTotalElapsedTime = \"{:.4f}\".format(totalElapsedTime)\n",
    "print(result)\n",
    "print(formattedTotalElapsedTime)"
   ]
  },
  {
   "cell_type": "code",
   "execution_count": null,
   "id": "b99c246d-e7b2-4fd1-a885-00af0a690f59",
   "metadata": {},
   "outputs": [],
   "source": []
  }
 ],
 "metadata": {
  "kernelspec": {
   "display_name": "Python 3",
   "language": "python",
   "name": "python3"
  },
  "language_info": {
   "codemirror_mode": {
    "name": "ipython",
    "version": 3
   },
   "file_extension": ".py",
   "mimetype": "text/x-python",
   "name": "python",
   "nbconvert_exporter": "python",
   "pygments_lexer": "ipython3",
   "version": "3.9.4"
  }
 },
 "nbformat": 4,
 "nbformat_minor": 5
}
