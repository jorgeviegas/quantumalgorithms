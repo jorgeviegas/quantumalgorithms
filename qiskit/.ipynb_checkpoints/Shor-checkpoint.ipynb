{
 "cells": [
  {
   "cell_type": "code",
   "execution_count": 1,
   "id": "f0807091-ba2a-4025-813e-2049dba567d4",
   "metadata": {
    "tags": []
   },
   "outputs": [],
   "source": [
    "from qiskit import Aer\n",
    "from qiskit.utils import QuantumInstance\n",
    "from qiskit.algorithms import Shor\n",
    "import time"
   ]
  },
  {
   "cell_type": "markdown",
   "id": "e939849e-5ace-4ab1-9953-83ef6493ce47",
   "metadata": {},
   "source": [
    "<h> Parameters </h>"
   ]
  },
  {
   "cell_type": "code",
   "execution_count": 2,
   "id": "a7bc26bd-c98a-4b22-80e0-04d3fff1f926",
   "metadata": {},
   "outputs": [],
   "source": [
    "backendObject = Aer.get_backend('qasm_simulator')\n",
    "quantumInstance = QuantumInstance(backendObject, seed_simulator=2, seed_transpiler=2)"
   ]
  },
  {
   "cell_type": "code",
   "execution_count": null,
   "id": "8d4bcd5c-2ee8-4479-80a6-ddbbe516198c",
   "metadata": {},
   "outputs": [],
   "source": [
    "shorCircuit = Shor(quantum_instance=quantumInstance)\n",
    "timeBefore = time.perf_counter()\n",
    "result = shorCircuit.factor(N=101)\n",
    "timeAfter = time.perf_counter()\n",
    "totalElapsedTime = timeAfter - timeBefore\n",
    "formattedTotalElapsedTime = \"{:.4f}\".format(totalElapsedTime)\n",
    "print(result)\n",
    "print(formattedTotalElapsedTime)"
   ]
  },
  {
   "cell_type": "code",
   "execution_count": null,
   "id": "b99c246d-e7b2-4fd1-a885-00af0a690f59",
   "metadata": {},
   "outputs": [],
   "source": []
  }
 ],
 "metadata": {
  "kernelspec": {
   "display_name": "Python 3",
   "language": "python",
   "name": "python3"
  },
  "language_info": {
   "codemirror_mode": {
    "name": "ipython",
    "version": 3
   },
   "file_extension": ".py",
   "mimetype": "text/x-python",
   "name": "python",
   "nbconvert_exporter": "python",
   "pygments_lexer": "ipython3",
   "version": "3.9.4"
  }
 },
 "nbformat": 4,
 "nbformat_minor": 5
}
