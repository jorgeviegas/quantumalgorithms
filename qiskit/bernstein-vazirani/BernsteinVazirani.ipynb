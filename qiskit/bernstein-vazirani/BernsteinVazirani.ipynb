{
 "cells": [
  {
   "cell_type": "code",
   "execution_count": 46,
   "id": "bdc66a45-f4ba-4304-8674-c8d7026ab30b",
   "metadata": {},
   "outputs": [],
   "source": [
    "# initialization\n",
    "import matplotlib.pyplot as plt\n",
    "import numpy as np\n",
    "import time\n",
    "\n",
    "# importing Qiskit\n",
    "from qiskit import IBMQ, Aer\n",
    "from qiskit.providers.ibmq import least_busy\n",
    "from qiskit import QuantumCircuit, ClassicalRegister, QuantumRegister, transpile, assemble\n",
    "\n",
    "# import basic plot tools\n",
    "from qiskit.visualization import plot_histogram"
   ]
  },
  {
   "cell_type": "code",
   "execution_count": 47,
   "id": "ad5aeaa3-e68b-4865-89a2-771e65c31186",
   "metadata": {},
   "outputs": [],
   "source": [
    "backendObject = Aer.get_backend('qasm_simulator')"
   ]
  },
  {
   "cell_type": "code",
   "execution_count": 57,
   "id": "297f256d-2474-48d9-b2b5-57ab909d3d67",
   "metadata": {},
   "outputs": [],
   "source": [
    "def buildBernsteinVaziraniCircuit(numberOfQubits, bitMask) :\n",
    "    \n",
    "    s = bitMask\n",
    "    n = numberOfQubits\n",
    "    print(s)\n",
    "    \n",
    "    # We need a circuit with n qubits, plus one auxiliary qubit\n",
    "    # Also need n classical bits to write the output to\n",
    "    bv_circuit = QuantumCircuit(n+1, n)\n",
    "\n",
    "    # put auxiliary in state |->\n",
    "    bv_circuit.h(n)\n",
    "    bv_circuit.z(n)\n",
    "\n",
    "    # Apply Hadamard gates before querying the oracle\n",
    "    for i in range(n):\n",
    "        bv_circuit.h(i)\n",
    "    \n",
    "    # Apply barrier \n",
    "    bv_circuit.barrier()\n",
    "\n",
    "    # Apply the inner-product oracle\n",
    "    s = s[::-1] # reverse s to fit qiskit's qubit ordering\n",
    "    for q in range(n):\n",
    "        if s[q] == '0':\n",
    "            bv_circuit.i(q)\n",
    "        else:\n",
    "            bv_circuit.cx(q, n)\n",
    "        \n",
    "    # Apply barrier \n",
    "    bv_circuit.barrier()\n",
    "\n",
    "    #Apply Hadamard gates after querying the oracle\n",
    "    for i in range(n):\n",
    "        bv_circuit.h(i)\n",
    "\n",
    "    # Measurement\n",
    "    for i in range(n):\n",
    "        bv_circuit.measure(i, i)\n",
    "        \n",
    "    return bv_circuit"
   ]
  },
  {
   "cell_type": "code",
   "execution_count": 58,
   "id": "b8959060-d650-4945-84a5-4c9b7ae055e6",
   "metadata": {},
   "outputs": [],
   "source": [
    "def generateEndianBitMap(numberOfQubits) :\n",
    "    endianRep = \"{0:b}\".format(numberOfQubits)\n",
    "    bitMapLength = len(endianRep)\n",
    "    zeroPadding = '0' * (numberOfQubits - bitMapLength)\n",
    "    endianRep = endianRep + zeroPadding\n",
    "    return endianRep"
   ]
  },
  {
   "cell_type": "code",
   "execution_count": 59,
   "id": "1f132244-37db-4cb4-80b8-99a9da993aa1",
   "metadata": {},
   "outputs": [],
   "source": [
    "def runBernsteinVaziraniAlgorithm(numberOfQubits) :\n",
    "    timeBefore = time.perf_counter()\n",
    "    bitMask = generateEndianBitMap(numberOfQubits)\n",
    "    bitMask = '11001100110011001100'\n",
    "    bernsteinVaziraniCircuit = buildBernsteinVaziraniCircuit(numberOfQubits, bitMask)\n",
    "    quantumObject = assemble(bernsteinVaziraniCircuit)\n",
    "    results = backendObject.run(quantumObject).result()\n",
    "    timeAfter = time.perf_counter()\n",
    "    totalElapsedTime = timeAfter - timeBefore   \n",
    "    formattedTotalElapsedTime = \"{:.4f}\".format(totalElapsedTime)  \n",
    "    print(\"[\" + str(numberOfQubits) + \"] Time: \" + str(formattedTotalElapsedTime))\n",
    "    return results"
   ]
  },
  {
   "cell_type": "code",
   "execution_count": 60,
   "id": "4535a7a7-b4f9-41e5-830d-a2328ba293f4",
   "metadata": {},
   "outputs": [
    {
     "name": "stdout",
     "output_type": "stream",
     "text": [
      "11001100110011001100\n",
      "[20] Time: 0.0229\n"
     ]
    },
    {
     "data": {
      "image/png": "[encoded data removed]",
      "text/plain": [
       "<Figure size 504x360 with 1 Axes>"
      ]
     },
     "execution_count": 60,
     "metadata": {},
     "output_type": "execute_result"
    }
   ],
   "source": [
    "result = runBernsteinVaziraniAlgorithm(20)\n",
    "plot_histogram(result.get_counts())\n"
   ]
  },
  {
   "cell_type": "code",
   "execution_count": null,
   "id": "fe62bed1-2b35-4c7b-ba12-d2dafcc2b87e",
   "metadata": {},
   "outputs": [],
   "source": []
  }
 ],
 "metadata": {
  "kernelspec": {
   "display_name": "Python 3",
   "language": "python",
   "name": "python3"
  },
  "language_info": {
   "codemirror_mode": {
    "name": "ipython",
    "version": 3
   },
   "file_extension": ".py",
   "mimetype": "text/x-python",
   "name": "python",
   "nbconvert_exporter": "python",
   "pygments_lexer": "ipython3",
   "version": "3.9.4"
  }
 },
 "nbformat": 4,
 "nbformat_minor": 5
}
