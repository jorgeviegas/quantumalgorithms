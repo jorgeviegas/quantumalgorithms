{
 "cells": [
  {
   "cell_type": "code",
   "execution_count": 29,
   "id": "3b495a02-f853-4242-9ba1-02d9c2ea3e09",
   "metadata": {},
   "outputs": [],
   "source": [
    "# importing Qiskit\n",
    "from qiskit import IBMQ, Aer\n",
    "from qiskit.providers.ibmq import least_busy\n",
    "from qiskit import QuantumCircuit, transpile, assemble\n",
    "import time\n",
    "\n",
    "# import basic plot tools\n",
    "from qiskit.visualization import plot_histogram\n",
    "from qiskit.aqua.algorithms import BernsteinVazirani, DeutschJozsa, Simon, Shor\n",
    "from qiskit.aqua.components.oracles import TruthTableOracle\n",
    "from qiskit.aqua import QuantumInstance\n",
    "\n",
    "backendObject = Aer.get_backend('qasm_simulator')"
   ]
  },
  {
   "cell_type": "code",
   "execution_count": 30,
   "id": "1923e9a6-f9af-4141-8ac9-afe4776d6811",
   "metadata": {},
   "outputs": [],
   "source": [
    "def buildOracle(numberOfQubits) :    \n",
    "    numberOfClassicalBits = 2 ** numberOfQubits\n",
    "    halfOfClassicalBits = int(numberOfClassicalBits / 2)\n",
    "    \n",
    "    allZeroTruthTable = '0' * numberOfClassicalBits\n",
    "    allOneTruthTable = '1' * numberOfClassicalBits\n",
    "    balancedTruthTable = ('0' * (halfOfClassicalBits)) + ('1' * (halfOfClassicalBits))\n",
    "    \n",
    "    allZeroOracle = TruthTableOracle(allZeroTruthTable)\n",
    "    allOneOracle = TruthTableOracle(allOneTruthTable)\n",
    "    balancedOracle = TruthTableOracle(balancedTruthTable)\n",
    "  \n",
    "    return allOneOracle"
   ]
  },
  {
   "cell_type": "code",
   "execution_count": 31,
   "id": "765ef2f2-8846-49ff-8a73-0ff4b6b6ba3e",
   "metadata": {},
   "outputs": [],
   "source": [
    "def runSimonAlgorithm(numberOfQubits) :\n",
    "    timeBefore = time.perf_counter()\n",
    "    oracle = buildOracle(numberOfQubits)\n",
    "    simon = Simon(oracle)\n",
    "    result = simon.run(QuantumInstance(backendObject, shots=1024))\n",
    "    timeAfter = time.perf_counter()\n",
    "    totalElapsedTime = timeAfter - timeBefore   \n",
    "    formattedTotalElapsedTime = \"{:.4f}\".format(totalElapsedTime)  \n",
    "    print(str(formattedTotalElapsedTime).replace(\".\",\",\"))"
   ]
  },
  {
   "cell_type": "code",
   "execution_count": 43,
   "id": "7c55870c-a0b9-4126-b08a-d26f9c81ea7c",
   "metadata": {
    "tags": []
   },
   "outputs": [
    {
     "name": "stdout",
     "output_type": "stream",
     "text": [
      "597,6324\n"
     ]
    }
   ],
   "source": [
    "runSimonAlgorithm(12)\n"
   ]
  },
  {
   "cell_type": "code",
   "execution_count": null,
   "id": "844dc0d4-1d84-4f4f-84fc-eac0215a9603",
   "metadata": {},
   "outputs": [],
   "source": []
  }
 ],
 "metadata": {
  "kernelspec": {
   "display_name": "Python 3",
   "language": "python",
   "name": "python3"
  },
  "language_info": {
   "codemirror_mode": {
    "name": "ipython",
    "version": 3
   },
   "file_extension": ".py",
   "mimetype": "text/x-python",
   "name": "python",
   "nbconvert_exporter": "python",
   "pygments_lexer": "ipython3",
   "version": "3.9.4"
  }
 },
 "nbformat": 4,
 "nbformat_minor": 5
}
