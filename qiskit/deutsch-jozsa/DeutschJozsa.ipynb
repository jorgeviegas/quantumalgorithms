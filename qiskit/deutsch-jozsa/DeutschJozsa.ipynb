{
 "cells": [
  {
   "cell_type": "code",
   "execution_count": 1,
   "id": "f0807091-ba2a-4025-813e-2049dba567d4",
   "metadata": {
    "tags": []
   },
   "outputs": [],
   "source": [
    "from qiskit import QuantumCircuit, QuantumRegister, ClassicalRegister\n",
    "from qiskit import IBMQ, Aer\n",
    "from qiskit.aqua.algorithms import DeutschJozsa\n",
    "from qiskit.aqua.components.oracles import TruthTableOracle\n",
    "import time"
   ]
  },
  {
   "cell_type": "markdown",
   "id": "e939849e-5ace-4ab1-9953-83ef6493ce47",
   "metadata": {},
   "source": [
    "<h> Parameters </h>"
   ]
  },
  {
   "cell_type": "code",
   "execution_count": 2,
   "id": "a7bc26bd-c98a-4b22-80e0-04d3fff1f926",
   "metadata": {},
   "outputs": [],
   "source": [
    "backend_object = Aer.get_backend('qasm_simulator')"
   ]
  },
  {
   "cell_type": "code",
   "execution_count": 5,
   "id": "51ab9278-0cc2-422b-95bf-714342e90c14",
   "metadata": {},
   "outputs": [],
   "source": [
    "def runDeutschJozsa(numberOfQubits):\n",
    "    timeBefore = time.perf_counter()\n",
    "\n",
    "    numberOfClassicalBits = 2 ** numberOfQubits\n",
    "    halfOfClassicalBits = int(numberOfClassicalBits / 2)\n",
    "    \n",
    "    allZeroTruthTable = '0' * numberOfClassicalBits\n",
    "    allOneTruthTable = '1' * numberOfClassicalBits\n",
    "    balancedTruthTable = ('0' * (halfOfClassicalBits)) + ('1' * (halfOfClassicalBits))\n",
    "    \n",
    "    allZeroOracle = TruthTableOracle(allZeroTruthTable)\n",
    "    allOneOracle = TruthTableOracle(allOneTruthTable)\n",
    "    balancedOracle = TruthTableOracle(balancedTruthTable)\n",
    "    \n",
    "    deutschJozsaCircuit = DeutschJozsa(allZeroOracle)\n",
    "    result = deutschJozsaCircuit.run(backend_object)\n",
    "    \n",
    "    timeAfter = time.perf_counter()\n",
    "    totalElapsedTime = timeAfter - timeBefore   \n",
    "    formattedTotalElapsedTime = \"{:.4f}\".format(totalElapsedTime)\n",
    "       \n",
    "    print(\"[\" + str(numberOfQubits) + \"] Time: \" + str(formattedTotalElapsedTime))\n",
    "    return result\n"
   ]
  },
  {
   "cell_type": "code",
   "execution_count": null,
   "id": "340656be-b483-488b-b129-ef9c601868e2",
   "metadata": {},
   "outputs": [],
   "source": []
  },
  {
   "cell_type": "code",
   "execution_count": 6,
   "id": "af702549-d2b0-4ce4-a6ba-867423d1b3a3",
   "metadata": {},
   "outputs": [
    {
     "name": "stdout",
     "output_type": "stream",
     "text": [
      "[1] Time: 0.0113\n",
      "[2] Time: 0.0162\n",
      "[3] Time: 0.0240\n",
      "[4] Time: 0.0338\n",
      "[5] Time: 0.0531\n",
      "[6] Time: 0.0927\n",
      "[7] Time: 0.2085\n",
      "[8] Time: 0.3897\n",
      "[9] Time: 0.9240\n",
      "[10] Time: 2.0758\n",
      "[11] Time: 5.7593\n",
      "[12] Time: 12.7580\n",
      "[13] Time: 27.5708\n",
      "[14] Time: 57.6554\n",
      "[15] Time: 120.5240\n",
      "[16] Time: 254.2194\n",
      "[17] Time: 538.1890\n"
     ]
    }
   ],
   "source": [
    "for x in range(1, 18): runDeutschJozsa(x)"
   ]
  },
  {
   "cell_type": "code",
   "execution_count": null,
   "id": "e5b9184c-3f2f-4a2a-8b35-7fd7b4af2808",
   "metadata": {},
   "outputs": [],
   "source": []
  }
 ],
 "metadata": {
  "kernelspec": {
   "display_name": "Python 3",
   "language": "python",
   "name": "python3"
  },
  "language_info": {
   "codemirror_mode": {
    "name": "ipython",
    "version": 3
   },
   "file_extension": ".py",
   "mimetype": "text/x-python",
   "name": "python",
   "nbconvert_exporter": "python",
   "pygments_lexer": "ipython3",
   "version": "3.9.4"
  }
 },
 "nbformat": 4,
 "nbformat_minor": 5
}
