{
 "cells": [
  {
   "cell_type": "code",
   "execution_count": 1,
   "id": "f0807091-ba2a-4025-813e-2049dba567d4",
   "metadata": {
    "tags": []
   },
   "outputs": [],
   "source": [
    "from qiskit import QuantumCircuit, QuantumRegister, ClassicalRegister\n",
    "from qiskit import IBMQ, Aer\n",
    "from qiskit.aqua.algorithms import DeutschJozsa\n",
    "from qiskit.aqua.components.oracles import TruthTableOracle\n",
    "import time"
   ]
  },
  {
   "cell_type": "markdown",
   "id": "e939849e-5ace-4ab1-9953-83ef6493ce47",
   "metadata": {},
   "source": [
    "<h> Parameters </h>"
   ]
  },
  {
   "cell_type": "code",
   "execution_count": 14,
   "id": "a7bc26bd-c98a-4b22-80e0-04d3fff1f926",
   "metadata": {},
   "outputs": [],
   "source": [
    "backend_object = Aer.get_backend('aer_simulator_statevector')"
   ]
  },
  {
   "cell_type": "code",
   "execution_count": 15,
   "id": "51ab9278-0cc2-422b-95bf-714342e90c14",
   "metadata": {},
   "outputs": [],
   "source": [
    "def runDeutschJozsa(numberOfQubits, x):\n",
    "    timeBefore = time.perf_counter()\n",
    "\n",
    "    numberOfClassicalBits = 2 ** numberOfQubits\n",
    "    halfOfClassicalBits = int(numberOfClassicalBits / 2)\n",
    "    \n",
    "    allZeroTruthTable = '0' * numberOfClassicalBits\n",
    "    allOneTruthTable = '1' * numberOfClassicalBits\n",
    "    balancedTruthTable = ('0' * (halfOfClassicalBits)) + ('1' * (halfOfClassicalBits))\n",
    "    \n",
    "    allZeroOracle = TruthTableOracle(allZeroTruthTable)\n",
    "    allOneOracle = TruthTableOracle(allOneTruthTable)\n",
    "    balancedOracle = TruthTableOracle(balancedTruthTable)\n",
    "    \n",
    "    deutschJozsaCircuit = DeutschJozsa(allZeroOracle)\n",
    "    result = deutschJozsaCircuit.run(backend_object)\n",
    "    \n",
    "    timeAfter = time.perf_counter()\n",
    "    totalElapsedTime = timeAfter - timeBefore   \n",
    "    formattedTotalElapsedTime = \"{:.4f}\".format(totalElapsedTime)\n",
    "       \n",
    "    print(\"[\" + str(numberOfQubits) + \"] Time: \" + str(formattedTotalElapsedTime))\n",
    "    return result\n"
   ]
  },
  {
   "cell_type": "code",
   "execution_count": 16,
   "id": "340656be-b483-488b-b129-ef9c601868e2",
   "metadata": {},
   "outputs": [
    {
     "name": "stdout",
     "output_type": "stream",
     "text": [
      "[14] Time: 54.9797\n"
     ]
    },
    {
     "data": {
      "text/plain": [
       "{'measurement': {'00000000000000': 1024}, 'result': 'constant'}"
      ]
     },
     "execution_count": 16,
     "metadata": {},
     "output_type": "execute_result"
    }
   ],
   "source": [
    "runDeutschJozsa(14, 14)"
   ]
  },
  {
   "cell_type": "code",
   "execution_count": 5,
   "id": "af702549-d2b0-4ce4-a6ba-867423d1b3a3",
   "metadata": {},
   "outputs": [],
   "source": [
    "#for x in range(12, 20): runDeutschJozsa(x, x)"
   ]
  },
  {
   "cell_type": "code",
   "execution_count": null,
   "id": "e5b9184c-3f2f-4a2a-8b35-7fd7b4af2808",
   "metadata": {},
   "outputs": [],
   "source": []
  },
  {
   "cell_type": "code",
   "execution_count": null,
   "id": "e78f9e31-82b1-4e40-88fa-153fb5f3cdda",
   "metadata": {},
   "outputs": [],
   "source": []
  }
 ],
 "metadata": {
  "kernelspec": {
   "display_name": "Python 3",
   "language": "python",
   "name": "python3"
  },
  "language_info": {
   "codemirror_mode": {
    "name": "ipython",
    "version": 3
   },
   "file_extension": ".py",
   "mimetype": "text/x-python",
   "name": "python",
   "nbconvert_exporter": "python",
   "pygments_lexer": "ipython3",
   "version": "3.9.4"
  }
 },
 "nbformat": 4,
 "nbformat_minor": 5
}
