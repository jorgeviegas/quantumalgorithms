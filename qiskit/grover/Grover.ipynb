{
 "cells": [
  {
   "cell_type": "code",
   "execution_count": 1,
   "id": "ac48bc7a-2863-45ab-80f0-7d28e82e42a6",
   "metadata": {},
   "outputs": [],
   "source": [
    "from qiskit import Aer\n",
    "from qiskit.aqua import QuantumInstance\n",
    "from qiskit import QuantumCircuit\n",
    "from qiskit.aqua.algorithms import Grover\n",
    "from qiskit.aqua.components.oracles import LogicalExpressionOracle, TruthTableOracle\n",
    "import time"
   ]
  },
  {
   "cell_type": "code",
   "execution_count": 2,
   "id": "49363df3-629a-40bd-aa06-19bd14a0e3fb",
   "metadata": {},
   "outputs": [],
   "source": [
    "def generateOracle(numberOfQubits) :\n",
    "    numberOfClassicalBits = 2 ** numberOfQubits\n",
    "    #truthtable = '01' * int(numberOfClassicalBits / 2)\n",
    "    truthtable = '1' * numberOfClassicalBits\n",
    "    oracle = TruthTableOracle(truthtable)\n",
    "    return oracle"
   ]
  },
  {
   "cell_type": "code",
   "execution_count": 5,
   "id": "f98315ef-5f4e-4e52-9f8d-5da0791ec61f",
   "metadata": {},
   "outputs": [],
   "source": [
    "def runGroverAlgorithm(numberOfQubits) :\n",
    "    oracle = generateOracle(numberOfQubits)\n",
    "    timeBefore = time.perf_counter()\n",
    "    grover = Grover(oracle)\n",
    "    qasm_simulator = Aer.get_backend('qasm_simulator')\n",
    "    result = grover.run(QuantumInstance(qasm_simulator, shots=1024))\n",
    "    #print(result)\n",
    "    timeAfter = time.perf_counter()\n",
    "    totalElapsedTime = timeAfter - timeBefore   \n",
    "    formattedTotalElapsedTime = \"{:.4f}\".format(totalElapsedTime)      \n",
    "    print(\"[\" + str(numberOfQubits) + \"] Time: \" + str(formattedTotalElapsedTime))\n",
    "   "
   ]
  },
  {
   "cell_type": "code",
   "execution_count": null,
   "id": "547e0854-d6ac-4a7c-beaf-6546a651bfea",
   "metadata": {},
   "outputs": [
    {
     "name": "stdout",
     "output_type": "stream",
     "text": [
      "[12] Time: 609.1619\n"
     ]
    }
   ],
   "source": [
    "for x in range(12, 1214): runGroverAlgorithm(x)"
   ]
  },
  {
   "cell_type": "code",
   "execution_count": null,
   "id": "a0fdd755-600c-450b-a173-cd5e51a2d6e9",
   "metadata": {},
   "outputs": [],
   "source": []
  }
 ],
 "metadata": {
  "kernelspec": {
   "display_name": "Python 3",
   "language": "python",
   "name": "python3"
  },
  "language_info": {
   "codemirror_mode": {
    "name": "ipython",
    "version": 3
   },
   "file_extension": ".py",
   "mimetype": "text/x-python",
   "name": "python",
   "nbconvert_exporter": "python",
   "pygments_lexer": "ipython3",
   "version": "3.9.4"
  }
 },
 "nbformat": 4,
 "nbformat_minor": 5
}
