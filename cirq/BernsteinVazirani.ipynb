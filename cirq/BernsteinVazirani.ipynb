{
 "cells": [
  {
   "cell_type": "code",
   "execution_count": 17,
   "id": "460cf9bb-beae-4087-95e2-ab5628b877cd",
   "metadata": {},
   "outputs": [],
   "source": [
    "import random, cirq, time\n",
    "\n",
    "def main(qubit_count):\n",
    "    circuit_sample_count = 3\n",
    "\n",
    "    # Choose qubits to use.\n",
    "    input_qubits = [cirq.GridQubit(i, 0) for i in range(qubit_count)]\n",
    "    output_qubit = cirq.GridQubit(qubit_count, 0)\n",
    "\n",
    "    # Pick coefficients for the oracle and create a circuit to query it.\n",
    "    secret_bias_bit = random.randint(0, 1)\n",
    "    #secret_factor_bits = [random.randint(0, 1) for _ in range(qubit_count)]\n",
    "    secret_factor_bits = list(map(int,list(endianNotation(qubit_count))))\n",
    "    \n",
    "    oracle = make_oracle(input_qubits, output_qubit, secret_factor_bits, secret_bias_bit)\n",
    "  #  print(\n",
    "  #      'Secret function:\\nf(a) = a·<{}> + {} (mod 2)'.format(\n",
    "  #          ', '.join(str(e) for e in secret_factor_bits), secret_bias_bit\n",
    "  #      )\n",
    "  #  )\n",
    "\n",
    "    # Embed the oracle into a special quantum circuit querying it exactly once.\n",
    "    circuit = make_bernstein_vazirani_circuit(input_qubits, output_qubit, oracle)\n",
    "  #  print('Circuit:')\n",
    " #   print(circuit)\n",
    "\n",
    "    # Sample from the circuit a couple times.\n",
    "    simulator = cirq.Simulator()\n",
    "    result = simulator.run(circuit, repetitions=circuit_sample_count)\n",
    "    frequencies = result.histogram(key='result', fold_func=bitstring)\n",
    "#    print(f'Sampled results:\\n{frequencies}')\n",
    "\n",
    "    # Check if we actually found the secret value.\n",
    "    most_common_bitstring = frequencies.most_common(1)[0][0]\n",
    "  #  print(\n",
    "  #      'Most common matches secret factors:\\n{}'.format(\n",
    "  #          most_common_bitstring == bitstring(secret_factor_bits)\n",
    "  #      )\n",
    "  #  )\n",
    "\n",
    "\n",
    "def make_oracle(input_qubits, output_qubit, secret_factor_bits, secret_bias_bit):\n",
    "    \"\"\"Gates implementing the function f(a) = a·factors + bias (mod 2).\"\"\"\n",
    "\n",
    "    if secret_bias_bit:\n",
    "        yield cirq.X(output_qubit)\n",
    "\n",
    "    for qubit, bit in zip(input_qubits, secret_factor_bits):\n",
    "        if bit:\n",
    "            yield cirq.CNOT(qubit, output_qubit)\n",
    "\n",
    "\n",
    "def make_bernstein_vazirani_circuit(input_qubits, output_qubit, oracle):\n",
    "    \"\"\"Solves for factors in f(a) = a·factors + bias (mod 2) with one query.\"\"\"\n",
    "\n",
    "    c = cirq.Circuit()\n",
    "\n",
    "    # Initialize qubits.\n",
    "    c.append(\n",
    "        [\n",
    "            cirq.X(output_qubit),\n",
    "            cirq.H(output_qubit),\n",
    "            cirq.H.on_each(*input_qubits),\n",
    "        ]\n",
    "    )\n",
    "\n",
    "    # Query oracle.\n",
    "    c.append(oracle)\n",
    "\n",
    "    # Measure in X basis.\n",
    "    c.append([cirq.H.on_each(*input_qubits), cirq.measure(*input_qubits, key='result')])\n",
    "\n",
    "    return c\n",
    "\n",
    "\n",
    "def bitstring(bits):\n",
    "    return ''.join(str(int(b)) for b in bits)\n",
    "\n",
    "def endianNotation(numberOfQubits) :    \n",
    "    endianRep = \"{0:b}\".format(numberOfQubits)[::-1]\n",
    "    bitMapLength = len(endianRep)\n",
    "    zeroPadding = '0' * (numberOfQubits - bitMapLength)\n",
    "    endianRep = endianRep + zeroPadding\n",
    "    return endianRep\n"
   ]
  },
  {
   "cell_type": "code",
   "execution_count": 18,
   "id": "ff6c6b1e-4a2c-471e-8ebe-32ebeb1121d4",
   "metadata": {},
   "outputs": [],
   "source": [
    "def runBernsteinVazirani(numOfQubits):\n",
    "    timeBefore = time.perf_counter()\n",
    "    main(numOfQubits)\n",
    "    timeAfter = time.perf_counter()\n",
    "    totalElapsedTime = timeAfter - timeBefore   \n",
    "    formattedTotalElapsedTime = \"{:.4f}\".format(totalElapsedTime)    \n",
    "    print(str(formattedTotalElapsedTime).replace(\".\", \",\"))"
   ]
  },
  {
   "cell_type": "code",
   "execution_count": 45,
   "id": "7ba138cd-5f92-47b5-b46b-f215642d8dbe",
   "metadata": {},
   "outputs": [
    {
     "name": "stdout",
     "output_type": "stream",
     "text": [
      "363,3300\n"
     ]
    }
   ],
   "source": [
    "runBernsteinVazirani(25)"
   ]
  },
  {
   "cell_type": "code",
   "execution_count": null,
   "id": "17a578e2-e2d0-4e7e-887e-54db6596455a",
   "metadata": {},
   "outputs": [],
   "source": []
  }
 ],
 "metadata": {
  "kernelspec": {
   "display_name": "Python 3",
   "language": "python",
   "name": "python3"
  },
  "language_info": {
   "codemirror_mode": {
    "name": "ipython",
    "version": 3
   },
   "file_extension": ".py",
   "mimetype": "text/x-python",
   "name": "python",
   "nbconvert_exporter": "python",
   "pygments_lexer": "ipython3",
   "version": "3.9.4"
  }
 },
 "nbformat": 4,
 "nbformat_minor": 5
}
