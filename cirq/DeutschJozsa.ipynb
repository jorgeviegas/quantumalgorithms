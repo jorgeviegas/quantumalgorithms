{
 "cells": [
  {
   "cell_type": "code",
   "execution_count": 6,
   "id": "4820255c-46d6-4d40-beff-c22ba1d8e261",
   "metadata": {},
   "outputs": [],
   "source": [
    "import random, cirq, time\n",
    "from cirq import H, X, CNOT, measure\n",
    "\n",
    "\n",
    "def main(qubit_count, balanced_oracle):\n",
    "    \n",
    "    input_qubits = [cirq.GridQubit(i, 0) for i in range(qubit_count)]\n",
    "    output_qubit = cirq.GridQubit(qubit_count, 0)\n",
    "\n",
    "    oracle = make_constant_oracle(input_qubits, output_qubit)\n",
    "\n",
    "    if (balanced_oracle) :\n",
    "        oracle = make_balanced_oracle(input_qubits, output_qubit)\n",
    "\n",
    "    circuit = make_deutsch_jozsa_circuit(input_qubits, output_qubit, oracle)\n",
    "\n",
    "    # Simulate the circuit.\n",
    "    timeBefore = time.perf_counter()\n",
    "    simulator = cirq.Simulator()\n",
    "    result = simulator.run(circuit)\n",
    "    timeAfter = time.perf_counter()\n",
    "    totalElapsedTime = timeAfter - timeBefore   \n",
    "    formattedTotalElapsedTime = \"{:.4f}\".format(totalElapsedTime)    \n",
    "    print(str(formattedTotalElapsedTime).replace(\".\",\",\"))\n",
    "\n",
    "\n",
    "def make_balanced_oracle(input_qubits, output_qubit):\n",
    "    i = -1\n",
    "    for qubit in input_qubits:\n",
    "        i = i +1\n",
    "        if ((i % 2) == 0):\n",
    "            yield cirq.X(qubit)\n",
    "            \n",
    "    for qubit in input_qubits:\n",
    "        yield cirq.CNOT(qubit, output_qubit)\n",
    "        \n",
    "    i = -1\n",
    "    for qubit in input_qubits:\n",
    "        i = i +1\n",
    "        if ((i % 2) == 0):\n",
    "            yield cirq.X(qubit)\n",
    "            \n",
    "def make_constant_oracle(input_qubits, output_qubit):\n",
    "    for qubit in input_qubits:\n",
    "        yield cirq.X(qubit)\n",
    "            \n",
    "def make_deutsch_jozsa_circuit(input_qubits, output_qubit, oracle):\n",
    "\n",
    "    c = cirq.Circuit()\n",
    "    \n",
    "    c.append(\n",
    "        [\n",
    "            cirq.X(output_qubit),\n",
    "            cirq.H(output_qubit),\n",
    "            cirq.H.on_each(*input_qubits),\n",
    "        ]\n",
    "    )\n",
    "\n",
    "    # Query oracle.\n",
    "    c.append(oracle)  \n",
    "    c.append([cirq.H.on_each(*input_qubits), cirq.measure(*input_qubits, key='result')])\n",
    "\n",
    "    return c"
   ]
  },
  {
   "cell_type": "code",
   "execution_count": 31,
   "id": "b8fc6152-8fb7-44a4-8a73-859ed318115e",
   "metadata": {},
   "outputs": [
    {
     "name": "stdout",
     "output_type": "stream",
     "text": [
      "360,6798\n"
     ]
    }
   ],
   "source": [
    "#for x in range(23, 25):\n",
    "main(25, False)"
   ]
  },
  {
   "cell_type": "code",
   "execution_count": null,
   "id": "a78e9fb9-0367-483b-9b1e-d60d2450469f",
   "metadata": {},
   "outputs": [],
   "source": []
  }
 ],
 "metadata": {
  "kernelspec": {
   "display_name": "Python 3",
   "language": "python",
   "name": "python3"
  },
  "language_info": {
   "codemirror_mode": {
    "name": "ipython",
    "version": 3
   },
   "file_extension": ".py",
   "mimetype": "text/x-python",
   "name": "python",
   "nbconvert_exporter": "python",
   "pygments_lexer": "ipython3",
   "version": "3.9.4"
  }
 },
 "nbformat": 4,
 "nbformat_minor": 5
}
